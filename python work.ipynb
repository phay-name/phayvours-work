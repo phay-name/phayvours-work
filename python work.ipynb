{
 "cells": [
  {
   "cell_type": "code",
   "execution_count": null,
   "id": "efe4bfac",
   "metadata": {},
   "outputs": [],
   "source": [
    "inec is about to conduct an election in rivers state for the local government , 10 candidates have registered for 10 local\n",
    "governments for a user to be able to vote they must have either a pvc or tvc, must be 18 and above but not above 60, should \n",
    "be a citizen of nigeria. inec has contracted you to the following: \n",
    "    # write a function that carries out the different conditions to be met to vote,\n",
    "    # write a function that prompts a user for the various data needed and use the functions created to check if the user \n",
    "#qualifies to vote\n",
    "## note: inec has only 100 accredited voters at the end of the program display the total number of users that could and\n",
    "# couldnt vote\n",
    "    \n",
    "    \n",
    "    \n",
    "class Voter:\n",
    "    def __init__(self, name, age, citizenship, pvc_or_tvc):\n",
    "        self.name = name\n",
    "        self.age = age\n",
    "        self.citizenship = citizenship\n",
    "        self.pvc_or_tvc = pvc_or_tvc\n",
    "\n",
    "    def is_eligible(self):\n",
    "        return (self.age >= 18 and self.age <= 60) and self.citizenship == \"Nigerian\" and self.pvc_or_tvc in [\"PVC\", \"TVC\"]\n",
    "\n",
    "def get_voter_info():\n",
    "    name = input(\"Enter your name: \")\n",
    "    age = int(input(\"Enter your age: \"))\n",
    "    citizenship = input(\"Enter your citizenship (Nigerian/Non-Nigerian): \")\n",
    "    pvc_or_tvc = input(\"Do you have a PVC or TVC? \").upper()\n",
    "    \n",
    "    return Voter(name, age, citizenship, pvc_or_tvc)\n",
    "\n",
    "def check_eligibility(voter):\n",
    "    if voter.is_eligible():\n",
    "        print(f\"{voter.name} is eligible to vote.\")\n",
    "        return True\n",
    "    else:\n",
    "        print(f\"{voter.name} is not eligible to vote.\")\n",
    "        return False\n",
    "\n",
    "def main():\n",
    "    eligible_voters = 0\n",
    "    total_voters = 0\n",
    "    accredited_voters_limit = 3\n",
    "\n",
    "    while total_voters < accredited_voters_limit:\n",
    "        voter = get_voter_info()\n",
    "        if check_eligibility(voter):\n",
    "            eligible_voters += 1\n",
    "        total_voters += 1\n",
    "        print(f\"\\nTotal Voters: {total_voters}\")\n",
    "        print(f\"Eligible Voters: {eligible_voters}\\n\")\n",
    "\n",
    "    print(\"Voting Registration Closed.\")\n",
    "    print(f\"Total Eligible Voters: {eligible_voters}\")\n",
    "    print(f\"Total Ineligible Voters: {total_voters - eligible_voters}\")\n",
    "\n",
    "if __name__ == \"__main__\":\n",
    "    main()\n"
   ]
  },
  {
   "cell_type": "markdown",
   "id": "f0706c43",
   "metadata": {},
   "source": [
    "## continue and break statement"
   ]
  },
  {
   "cell_type": "code",
   "execution_count": null,
   "id": "6bd04b86",
   "metadata": {},
   "outputs": [],
   "source": [
    "# example\n",
    "# nimc needs a portal to enroll users for an nin, they have contracted you to  \n"
   ]
  },
  {
   "cell_type": "code",
   "execution_count": 2,
   "id": "f0b0bd0c",
   "metadata": {},
   "outputs": [
    {
     "name": "stdout",
     "output_type": "stream",
     "text": [
      "enter your name: favour\n",
      "enter your nationality: nigeria\n",
      "enter your name: ryan\n",
      "enter your nationality: europe\n",
      "1\n"
     ]
    }
   ],
   "source": [
    "# soln\n",
    "count = 0\n",
    "while True:\n",
    "    name = input('enter your name: ')\n",
    "    nation = input('enter your nationality: ')\n",
    "    if nation.lower() != 'NIGERIA'.lower():\n",
    "        break\n",
    "    count = count + 1\n",
    "print(count)"
   ]
  },
  {
   "cell_type": "markdown",
   "id": "aaa534ed",
   "metadata": {},
   "source": [
    "## classwork"
   ]
  },
  {
   "cell_type": "code",
   "execution_count": null,
   "id": "fceaddd4",
   "metadata": {},
   "outputs": [],
   "source": [
    "#disney wants to know the average number of customers and average amount made in a day from disney world,they have acquired \n",
    "#your assistance to help them write a function that calculates the average number of people and another functon that will \n",
    "#calculate the average income gotten finally write a function that will continuosly prompt users for their name, age and \n",
    "#amount paid and keep track of the neccessary details to carry out the computation"
   ]
  },
  {
   "cell_type": "code",
   "execution_count": 1,
   "id": "0eb11e92",
   "metadata": {},
   "outputs": [
    {
     "name": "stdout",
     "output_type": "stream",
     "text": [
      "enter your name: favour\n",
      "enter your age: 18\n",
      "enter your name: blessing\n",
      "enter your age: 17\n"
     ]
    },
    {
     "ename": "NameError",
     "evalue": "name 'total' is not defined",
     "output_type": "error",
     "traceback": [
      "\u001b[1;31m---------------------------------------------------------------------------\u001b[0m",
      "\u001b[1;31mNameError\u001b[0m                                 Traceback (most recent call last)",
      "Cell \u001b[1;32mIn[1], line 26\u001b[0m\n\u001b[0;32m     23\u001b[0m         total_amount \u001b[38;5;241m=\u001b[39m total_amount \u001b[38;5;241m+\u001b[39m \u001b[38;5;241m1\u001b[39m\n\u001b[0;32m     24\u001b[0m         total_people \u001b[38;5;241m=\u001b[39m total_people \u001b[38;5;241m+\u001b[39m \u001b[38;5;241m1\u001b[39m\n\u001b[1;32m---> 26\u001b[0m main()\n",
      "Cell \u001b[1;32mIn[1], line 19\u001b[0m, in \u001b[0;36mmain\u001b[1;34m()\u001b[0m\n\u001b[0;32m     17\u001b[0m age \u001b[38;5;241m=\u001b[39m \u001b[38;5;28mint\u001b[39m(\u001b[38;5;28minput\u001b[39m(\u001b[38;5;124m'\u001b[39m\u001b[38;5;124menter your age: \u001b[39m\u001b[38;5;124m'\u001b[39m))\n\u001b[0;32m     18\u001b[0m \u001b[38;5;28;01mif\u001b[39;00m age \u001b[38;5;241m<\u001b[39m \u001b[38;5;241m18\u001b[39m:\n\u001b[1;32m---> 19\u001b[0m     avg_people(total,count) \n\u001b[0;32m     20\u001b[0m     avg_income(total,count)\n\u001b[0;32m     21\u001b[0m     \u001b[38;5;28;01mbreak\u001b[39;00m\n",
      "\u001b[1;31mNameError\u001b[0m: name 'total' is not defined"
     ]
    }
   ],
   "source": [
    "# soln\n",
    "def avg_people(total,count):\n",
    "    avg = total/count\n",
    "    print('average people is', avg)\n",
    "    \n",
    "def avg_income(total,count):\n",
    "    avg = total/count\n",
    "    print('average income is', avg)\n",
    "    \n",
    "def main():\n",
    "    count = 0\n",
    "    total_amount = 0\n",
    "    total_age = 0\n",
    "    total_people = 0\n",
    "    while True:\n",
    "        name = input('enter your name: ')\n",
    "        age = int(input('enter your age: '))\n",
    "        if age < 18:\n",
    "            avg_people(total,count) \n",
    "            avg_income(total,count)\n",
    "            break\n",
    "        count = count + 1\n",
    "        total_amount = total_amount + 1\n",
    "        total_people = total_people + 1\n",
    "\n",
    "main()"
   ]
  },
  {
   "cell_type": "markdown",
   "id": "1eacb475",
   "metadata": {},
   "source": [
    "# for loop "
   ]
  },
  {
   "cell_type": "code",
   "execution_count": 2,
   "id": "be188c48",
   "metadata": {},
   "outputs": [],
   "source": [
    "# it executes commands based on sequences"
   ]
  },
  {
   "cell_type": "code",
   "execution_count": null,
   "id": "d8896ec7",
   "metadata": {},
   "outputs": [],
   "source": [
    "for variable in seq:\n",
    "    perform task"
   ]
  },
  {
   "cell_type": "code",
   "execution_count": 5,
   "id": "0498c5e1",
   "metadata": {},
   "outputs": [
    {
     "name": "stdout",
     "output_type": "stream",
     "text": [
      "favour\n",
      "favour\n",
      "favour\n",
      "favour\n"
     ]
    }
   ],
   "source": [
    "x = [1,2,3,4]\n",
    "for y in x:\n",
    "    print('favour')"
   ]
  },
  {
   "cell_type": "code",
   "execution_count": 6,
   "id": "3c25faf9",
   "metadata": {},
   "outputs": [
    {
     "name": "stdout",
     "output_type": "stream",
     "text": [
      "42824\n",
      "6584436\n",
      "524867\n",
      "3049\n"
     ]
    }
   ],
   "source": [
    "bals = [42324,6583936,524367,957,2549]\n",
    "for bal in bals: \n",
    "    if bal >= 2000:\n",
    "        print(bal + 500)"
   ]
  },
  {
   "cell_type": "markdown",
   "id": "9576ce23",
   "metadata": {},
   "source": [
    "# list"
   ]
  },
  {
   "cell_type": "code",
   "execution_count": 7,
   "id": "d6db2151",
   "metadata": {},
   "outputs": [],
   "source": [
    "#data collection that stores values of different data type"
   ]
  },
  {
   "cell_type": "code",
   "execution_count": 26,
   "id": "a9f48612",
   "metadata": {},
   "outputs": [
    {
     "name": "stdout",
     "output_type": "stream",
     "text": [
      "4.5\n"
     ]
    }
   ],
   "source": [
    "x = [1, True, ['2'], 4.5]\n",
    "print(x[3])"
   ]
  },
  {
   "cell_type": "markdown",
   "id": "9caae72f",
   "metadata": {},
   "source": [
    "# list operations"
   ]
  },
  {
   "cell_type": "code",
   "execution_count": 28,
   "id": "a20171d6",
   "metadata": {},
   "outputs": [],
   "source": [
    "#to access a value\n",
    "\n",
    "# to add a value\n",
    "#x.append(7) # add a value to the end of a list\n",
    "\n",
    "# to delete from the list\n",
    "\n",
    "# sort\n",
    "x.sort\n",
    "\n",
    "# reverse\n",
    "x.reverse()\n",
    "\n",
    "# iterate/loop through/ traverse a list\n",
    "for i in x:\n",
    "    print(i)\n",
    "\n"
   ]
  },
  {
   "cell_type": "markdown",
   "id": "2b433397",
   "metadata": {},
   "source": [
    "## classwork"
   ]
  },
  {
   "cell_type": "code",
   "execution_count": null,
   "id": "ef950a3e",
   "metadata": {},
   "outputs": [],
   "source": [
    "amazon_prime_library_list = ['The Boys', 'Gen v', 'The breath of life', 'The Invisible','Reacher']\n",
    "movie_tracker_list = []\n",
    "jeff bezos started a movie streaming company and has only a few sets of movies he currently offers, he needs to keep track\n",
    "of each movie and how many times a user watched a particular movie, you have been tasked to write a function that will \n",
    "prompt  a user for a movie and check if the movie exists within the amazon_library_list above and if it does save it to a \n",
    "new list called amazon_prime_library_list above and if it does save it to a new list called amazon_prime_user_movie_tracker\n",
    "_list above, if a user enters a movie that doesnt exist then end the program and display the total number of users that \n",
    "visited amazon prime."
   ]
  },
  {
   "cell_type": "code",
   "execution_count": null,
   "id": "37b787f7",
   "metadata": {},
   "outputs": [],
   "source": [
    "# soln\n",
    "amazon_prime_library_list = ['The Boys', 'Gen v', 'The breath of life', 'The Invisible','Reacher']\n",
    "movie_tracker_list = []"
   ]
  },
  {
   "cell_type": "code",
   "execution_count": null,
   "id": "aff5080e",
   "metadata": {},
   "outputs": [],
   "source": [
    "# example\n",
    "mylist = [334234,34324,35454,3354,654634552,525235254,436364,46,52353454]\n",
    "write a program that displays the largest number from the list above"
   ]
  },
  {
   "cell_type": "code",
   "execution_count": 2,
   "id": "b7b69e17",
   "metadata": {},
   "outputs": [
    {
     "name": "stdout",
     "output_type": "stream",
     "text": [
      "654634552\n"
     ]
    }
   ],
   "source": [
    "#soln\n",
    "mylist = [334234,34324,35454,3354,654634552,525235254,436364,46,52353454]\n",
    "\n",
    "largest =mylist[0]\n",
    "for item in mylist:\n",
    "    if item > largest:\n",
    "        largest = item\n",
    "print(largest)"
   ]
  },
  {
   "cell_type": "code",
   "execution_count": 4,
   "id": "27ae3c6c",
   "metadata": {},
   "outputs": [
    {
     "name": "stdout",
     "output_type": "stream",
     "text": [
      "46\n"
     ]
    }
   ],
   "source": [
    "#soln\n",
    "mylist = [334234,34324,35454,3354,654634552,525235254,436364,46,52353454]\n",
    "\n",
    "smallest =mylist[0]\n",
    "for item in mylist:\n",
    "    if item < smallest:\n",
    "        smallest = item\n",
    "print(smallest )"
   ]
  },
  {
   "cell_type": "code",
   "execution_count": 2,
   "id": "7ab1079b",
   "metadata": {},
   "outputs": [
    {
     "name": "stdout",
     "output_type": "stream",
     "text": [
      "enter tribe: rivers\n",
      "access granted\n",
      "good day\n"
     ]
    }
   ],
   "source": [
    "# conditional statement:\n",
    "   #simple if: concerned with condition being true\n",
    "   #if...else: concerned with condition being true and false\n",
    "   #chained condition: it is used when you have multiple related choices\n",
    "   #nested condition: conditions depending on other choices\n",
    "\n",
    "# simple if (grant entry to rivers people)\n",
    "tribe = input('enter tribe: ')\n",
    "if tribe == 'rivers':\n",
    "    print('access granted')\n",
    "print('good day')"
   ]
  },
  {
   "cell_type": "code",
   "execution_count": 3,
   "id": "8d3b9e5f",
   "metadata": {},
   "outputs": [
    {
     "name": "stdout",
     "output_type": "stream",
     "text": [
      "enter number: 269\n",
      "odd\n"
     ]
    }
   ],
   "source": [
    "# if...else (odd or even number)\n",
    "num = int(input('enter number: '))\n",
    "if num % 2 != 0:\n",
    "    print('odd')\n",
    "else:\n",
    "    print('even')"
   ]
  },
  {
   "cell_type": "code",
   "execution_count": 4,
   "id": "c839aff0",
   "metadata": {},
   "outputs": [
    {
     "name": "stdout",
     "output_type": "stream",
     "text": [
      "enter age: 17\n",
      "teen\n"
     ]
    }
   ],
   "source": [
    "# chained statements(adult, teen, child)\n",
    "age = int(input('enter age: '))\n",
    "if age >= 18:\n",
    "    print('adult')\n",
    "elif age >= 13: \n",
    "    print('teen')\n",
    "elif age >= 0 and age < 13:\n",
    "    print('child')\n",
    "else: \n",
    "    print('invalid')"
   ]
  },
  {
   "cell_type": "code",
   "execution_count": 10,
   "id": "d62908ee",
   "metadata": {},
   "outputs": [
    {
     "name": "stdout",
     "output_type": "stream",
     "text": [
      "enter age: 18\n",
      "enter citizenship: nigeria\n",
      "eligible\n"
     ]
    }
   ],
   "source": [
    "# nested conditions( checks voting eligibility)\n",
    "age = int(input('enter age: '))\n",
    "if age >= 18:\n",
    "    citizenship = input('enter citizenship: ')\n",
    "    if citizenship == 'nigeria':\n",
    "            print('eligible')\n",
    "    else:\n",
    "        print('inelligible must be citizen')\n",
    "else:\n",
    "    print('inelligible must be 18 and above')"
   ]
  },
  {
   "cell_type": "code",
   "execution_count": 1,
   "id": "285e86f7",
   "metadata": {},
   "outputs": [],
   "source": [
    "# STRINGS:\n",
    "   #defined as a sequence of characters\n",
    "# datatype\n",
    "#denoted or enclosed in '' or \"\"\n",
    "   #representation:\n",
    "#      string = p y t h o n \n",
    "#               0 1 2 3 4 5\n",
    "# positional index: number that represent the position of character in a string\n",
    "# access characters in a string:\n",
    "#      print(string[0])     #output: p\n",
    "#      print(string[3])     #output: h\n",
    "#      print(string[2])     #output: t\n",
    "\n",
    "\n",
    "# slicing:\n",
    "   #gets characters from one point in the string to another\n",
    "# print(string[o:2])    #output : p y\n",
    "#             [2:5]     #       : tho\n",
    "# print(string[0:2] + string[-1])     note: concatenation is the operation used when you want to join two strings together \n",
    "#                                     using (+,-)\n",
    "\n",
    "\n",
    "#name1 = 'david'\n",
    "#name2 = 'levine'\n",
    "# new_name = name1[ :2] + name2[2: ]\n",
    "#prin(new_name)"
   ]
  },
  {
   "cell_type": "markdown",
   "id": "e5a7aa24",
   "metadata": {},
   "source": [
    "## operations on strings"
   ]
  },
  {
   "cell_type": "code",
   "execution_count": 35,
   "id": "d848fa87",
   "metadata": {},
   "outputs": [
    {
     "name": "stdout",
     "output_type": "stream",
     "text": [
      "davine\n"
     ]
    }
   ],
   "source": [
    "## CONCATENATION  \n",
    "name1 = 'david'\n",
    "name2 = 'levine'\n",
    "new_name = name1[ :2] + name2[2: ]\n",
    "print(new_name)"
   ]
  },
  {
   "cell_type": "code",
   "execution_count": 4,
   "id": "203c336c",
   "metadata": {},
   "outputs": [
    {
     "data": {
      "text/plain": [
       "'hehehehehehehehehe'"
      ]
     },
     "execution_count": 4,
     "metadata": {},
     "output_type": "execute_result"
    }
   ],
   "source": [
    "## REPETITION - (*)\n",
    "'he' * 9\n"
   ]
  },
  {
   "cell_type": "code",
   "execution_count": null,
   "id": "482af50f",
   "metadata": {},
   "outputs": [],
   "source": [
    "program that generates a character id using the format\n",
    "first two : last name initials\n",
    "last three : last three digits of phone number\n",
    "middle six : repetition of '01'"
   ]
  },
  {
   "cell_type": "code",
   "execution_count": 2,
   "id": "6706d79c",
   "metadata": {},
   "outputs": [
    {
     "name": "stdout",
     "output_type": "stream",
     "text": [
      "enter last name: wokoma\n",
      "enter first name: favour\n",
      "enter phone number: 08119880066\n",
      "your id is wf010101066\n"
     ]
    }
   ],
   "source": [
    "lname = input('enter last name: ')\n",
    "fname = input('enter first name: ')\n",
    "ph_no = input('enter phone number: ')\n",
    "\n",
    "ID = lname[0] + fname[0] + '01' * 3 + ph_no[-3: ]\n",
    "print('your id is', ID)"
   ]
  },
  {
   "cell_type": "code",
   "execution_count": null,
   "id": "5220124f",
   "metadata": {},
   "outputs": [],
   "source": [
    "## traversing"
   ]
  },
  {
   "cell_type": "code",
   "execution_count": null,
   "id": "4efaa02a",
   "metadata": {},
   "outputs": [],
   "source": [
    "# methods:\n",
    "#         functions unique to an object or data type"
   ]
  },
  {
   "cell_type": "code",
   "execution_count": 3,
   "id": "380e0226",
   "metadata": {},
   "outputs": [
    {
     "name": "stdout",
     "output_type": "stream",
     "text": [
      "Help on class str in module builtins:\n",
      "\n",
      "class str(object)\n",
      " |  str(object='') -> str\n",
      " |  str(bytes_or_buffer[, encoding[, errors]]) -> str\n",
      " |  \n",
      " |  Create a new string object from the given object. If encoding or\n",
      " |  errors is specified, then the object must expose a data buffer\n",
      " |  that will be decoded using the given encoding and error handler.\n",
      " |  Otherwise, returns the result of object.__str__() (if defined)\n",
      " |  or repr(object).\n",
      " |  encoding defaults to sys.getdefaultencoding().\n",
      " |  errors defaults to 'strict'.\n",
      " |  \n",
      " |  Methods defined here:\n",
      " |  \n",
      " |  __add__(self, value, /)\n",
      " |      Return self+value.\n",
      " |  \n",
      " |  __contains__(self, key, /)\n",
      " |      Return key in self.\n",
      " |  \n",
      " |  __eq__(self, value, /)\n",
      " |      Return self==value.\n",
      " |  \n",
      " |  __format__(self, format_spec, /)\n",
      " |      Return a formatted version of the string as described by format_spec.\n",
      " |  \n",
      " |  __ge__(self, value, /)\n",
      " |      Return self>=value.\n",
      " |  \n",
      " |  __getattribute__(self, name, /)\n",
      " |      Return getattr(self, name).\n",
      " |  \n",
      " |  __getitem__(self, key, /)\n",
      " |      Return self[key].\n",
      " |  \n",
      " |  __getnewargs__(...)\n",
      " |  \n",
      " |  __gt__(self, value, /)\n",
      " |      Return self>value.\n",
      " |  \n",
      " |  __hash__(self, /)\n",
      " |      Return hash(self).\n",
      " |  \n",
      " |  __iter__(self, /)\n",
      " |      Implement iter(self).\n",
      " |  \n",
      " |  __le__(self, value, /)\n",
      " |      Return self<=value.\n",
      " |  \n",
      " |  __len__(self, /)\n",
      " |      Return len(self).\n",
      " |  \n",
      " |  __lt__(self, value, /)\n",
      " |      Return self<value.\n",
      " |  \n",
      " |  __mod__(self, value, /)\n",
      " |      Return self%value.\n",
      " |  \n",
      " |  __mul__(self, value, /)\n",
      " |      Return self*value.\n",
      " |  \n",
      " |  __ne__(self, value, /)\n",
      " |      Return self!=value.\n",
      " |  \n",
      " |  __repr__(self, /)\n",
      " |      Return repr(self).\n",
      " |  \n",
      " |  __rmod__(self, value, /)\n",
      " |      Return value%self.\n",
      " |  \n",
      " |  __rmul__(self, value, /)\n",
      " |      Return value*self.\n",
      " |  \n",
      " |  __sizeof__(self, /)\n",
      " |      Return the size of the string in memory, in bytes.\n",
      " |  \n",
      " |  __str__(self, /)\n",
      " |      Return str(self).\n",
      " |  \n",
      " |  capitalize(self, /)\n",
      " |      Return a capitalized version of the string.\n",
      " |      \n",
      " |      More specifically, make the first character have upper case and the rest lower\n",
      " |      case.\n",
      " |  \n",
      " |  casefold(self, /)\n",
      " |      Return a version of the string suitable for caseless comparisons.\n",
      " |  \n",
      " |  center(self, width, fillchar=' ', /)\n",
      " |      Return a centered string of length width.\n",
      " |      \n",
      " |      Padding is done using the specified fill character (default is a space).\n",
      " |  \n",
      " |  count(...)\n",
      " |      S.count(sub[, start[, end]]) -> int\n",
      " |      \n",
      " |      Return the number of non-overlapping occurrences of substring sub in\n",
      " |      string S[start:end].  Optional arguments start and end are\n",
      " |      interpreted as in slice notation.\n",
      " |  \n",
      " |  encode(self, /, encoding='utf-8', errors='strict')\n",
      " |      Encode the string using the codec registered for encoding.\n",
      " |      \n",
      " |      encoding\n",
      " |        The encoding in which to encode the string.\n",
      " |      errors\n",
      " |        The error handling scheme to use for encoding errors.\n",
      " |        The default is 'strict' meaning that encoding errors raise a\n",
      " |        UnicodeEncodeError.  Other possible values are 'ignore', 'replace' and\n",
      " |        'xmlcharrefreplace' as well as any other name registered with\n",
      " |        codecs.register_error that can handle UnicodeEncodeErrors.\n",
      " |  \n",
      " |  endswith(...)\n",
      " |      S.endswith(suffix[, start[, end]]) -> bool\n",
      " |      \n",
      " |      Return True if S ends with the specified suffix, False otherwise.\n",
      " |      With optional start, test S beginning at that position.\n",
      " |      With optional end, stop comparing S at that position.\n",
      " |      suffix can also be a tuple of strings to try.\n",
      " |  \n",
      " |  expandtabs(self, /, tabsize=8)\n",
      " |      Return a copy where all tab characters are expanded using spaces.\n",
      " |      \n",
      " |      If tabsize is not given, a tab size of 8 characters is assumed.\n",
      " |  \n",
      " |  find(...)\n",
      " |      S.find(sub[, start[, end]]) -> int\n",
      " |      \n",
      " |      Return the lowest index in S where substring sub is found,\n",
      " |      such that sub is contained within S[start:end].  Optional\n",
      " |      arguments start and end are interpreted as in slice notation.\n",
      " |      \n",
      " |      Return -1 on failure.\n",
      " |  \n",
      " |  format(...)\n",
      " |      S.format(*args, **kwargs) -> str\n",
      " |      \n",
      " |      Return a formatted version of S, using substitutions from args and kwargs.\n",
      " |      The substitutions are identified by braces ('{' and '}').\n",
      " |  \n",
      " |  format_map(...)\n",
      " |      S.format_map(mapping) -> str\n",
      " |      \n",
      " |      Return a formatted version of S, using substitutions from mapping.\n",
      " |      The substitutions are identified by braces ('{' and '}').\n",
      " |  \n",
      " |  index(...)\n",
      " |      S.index(sub[, start[, end]]) -> int\n",
      " |      \n",
      " |      Return the lowest index in S where substring sub is found,\n",
      " |      such that sub is contained within S[start:end].  Optional\n",
      " |      arguments start and end are interpreted as in slice notation.\n",
      " |      \n",
      " |      Raises ValueError when the substring is not found.\n",
      " |  \n",
      " |  isalnum(self, /)\n",
      " |      Return True if the string is an alpha-numeric string, False otherwise.\n",
      " |      \n",
      " |      A string is alpha-numeric if all characters in the string are alpha-numeric and\n",
      " |      there is at least one character in the string.\n",
      " |  \n",
      " |  isalpha(self, /)\n",
      " |      Return True if the string is an alphabetic string, False otherwise.\n",
      " |      \n",
      " |      A string is alphabetic if all characters in the string are alphabetic and there\n",
      " |      is at least one character in the string.\n",
      " |  \n",
      " |  isascii(self, /)\n",
      " |      Return True if all characters in the string are ASCII, False otherwise.\n",
      " |      \n",
      " |      ASCII characters have code points in the range U+0000-U+007F.\n",
      " |      Empty string is ASCII too.\n",
      " |  \n",
      " |  isdecimal(self, /)\n",
      " |      Return True if the string is a decimal string, False otherwise.\n",
      " |      \n",
      " |      A string is a decimal string if all characters in the string are decimal and\n",
      " |      there is at least one character in the string.\n",
      " |  \n",
      " |  isdigit(self, /)\n",
      " |      Return True if the string is a digit string, False otherwise.\n",
      " |      \n",
      " |      A string is a digit string if all characters in the string are digits and there\n",
      " |      is at least one character in the string.\n",
      " |  \n",
      " |  isidentifier(self, /)\n",
      " |      Return True if the string is a valid Python identifier, False otherwise.\n",
      " |      \n",
      " |      Call keyword.iskeyword(s) to test whether string s is a reserved identifier,\n",
      " |      such as \"def\" or \"class\".\n",
      " |  \n",
      " |  islower(self, /)\n",
      " |      Return True if the string is a lowercase string, False otherwise.\n",
      " |      \n",
      " |      A string is lowercase if all cased characters in the string are lowercase and\n",
      " |      there is at least one cased character in the string.\n",
      " |  \n",
      " |  isnumeric(self, /)\n",
      " |      Return True if the string is a numeric string, False otherwise.\n",
      " |      \n",
      " |      A string is numeric if all characters in the string are numeric and there is at\n",
      " |      least one character in the string.\n",
      " |  \n",
      " |  isprintable(self, /)\n",
      " |      Return True if the string is printable, False otherwise.\n",
      " |      \n",
      " |      A string is printable if all of its characters are considered printable in\n",
      " |      repr() or if it is empty.\n",
      " |  \n",
      " |  isspace(self, /)\n",
      " |      Return True if the string is a whitespace string, False otherwise.\n",
      " |      \n",
      " |      A string is whitespace if all characters in the string are whitespace and there\n",
      " |      is at least one character in the string.\n",
      " |  \n",
      " |  istitle(self, /)\n",
      " |      Return True if the string is a title-cased string, False otherwise.\n",
      " |      \n",
      " |      In a title-cased string, upper- and title-case characters may only\n",
      " |      follow uncased characters and lowercase characters only cased ones.\n",
      " |  \n",
      " |  isupper(self, /)\n",
      " |      Return True if the string is an uppercase string, False otherwise.\n",
      " |      \n",
      " |      A string is uppercase if all cased characters in the string are uppercase and\n",
      " |      there is at least one cased character in the string.\n",
      " |  \n",
      " |  join(self, iterable, /)\n",
      " |      Concatenate any number of strings.\n",
      " |      \n",
      " |      The string whose method is called is inserted in between each given string.\n",
      " |      The result is returned as a new string.\n",
      " |      \n",
      " |      Example: '.'.join(['ab', 'pq', 'rs']) -> 'ab.pq.rs'\n",
      " |  \n",
      " |  ljust(self, width, fillchar=' ', /)\n",
      " |      Return a left-justified string of length width.\n",
      " |      \n",
      " |      Padding is done using the specified fill character (default is a space).\n",
      " |  \n",
      " |  lower(self, /)\n",
      " |      Return a copy of the string converted to lowercase.\n",
      " |  \n",
      " |  lstrip(self, chars=None, /)\n",
      " |      Return a copy of the string with leading whitespace removed.\n",
      " |      \n",
      " |      If chars is given and not None, remove characters in chars instead.\n",
      " |  \n",
      " |  partition(self, sep, /)\n",
      " |      Partition the string into three parts using the given separator.\n",
      " |      \n",
      " |      This will search for the separator in the string.  If the separator is found,\n",
      " |      returns a 3-tuple containing the part before the separator, the separator\n",
      " |      itself, and the part after it.\n",
      " |      \n",
      " |      If the separator is not found, returns a 3-tuple containing the original string\n",
      " |      and two empty strings.\n",
      " |  \n",
      " |  removeprefix(self, prefix, /)\n",
      " |      Return a str with the given prefix string removed if present.\n",
      " |      \n",
      " |      If the string starts with the prefix string, return string[len(prefix):].\n",
      " |      Otherwise, return a copy of the original string.\n",
      " |  \n",
      " |  removesuffix(self, suffix, /)\n",
      " |      Return a str with the given suffix string removed if present.\n",
      " |      \n",
      " |      If the string ends with the suffix string and that suffix is not empty,\n",
      " |      return string[:-len(suffix)]. Otherwise, return a copy of the original\n",
      " |      string.\n",
      " |  \n",
      " |  replace(self, old, new, count=-1, /)\n",
      " |      Return a copy with all occurrences of substring old replaced by new.\n",
      " |      \n",
      " |        count\n",
      " |          Maximum number of occurrences to replace.\n",
      " |          -1 (the default value) means replace all occurrences.\n",
      " |      \n",
      " |      If the optional argument count is given, only the first count occurrences are\n",
      " |      replaced.\n",
      " |  \n",
      " |  rfind(...)\n",
      " |      S.rfind(sub[, start[, end]]) -> int\n",
      " |      \n",
      " |      Return the highest index in S where substring sub is found,\n",
      " |      such that sub is contained within S[start:end].  Optional\n",
      " |      arguments start and end are interpreted as in slice notation.\n",
      " |      \n",
      " |      Return -1 on failure.\n",
      " |  \n",
      " |  rindex(...)\n",
      " |      S.rindex(sub[, start[, end]]) -> int\n",
      " |      \n",
      " |      Return the highest index in S where substring sub is found,\n",
      " |      such that sub is contained within S[start:end].  Optional\n",
      " |      arguments start and end are interpreted as in slice notation.\n",
      " |      \n",
      " |      Raises ValueError when the substring is not found.\n",
      " |  \n",
      " |  rjust(self, width, fillchar=' ', /)\n",
      " |      Return a right-justified string of length width.\n",
      " |      \n",
      " |      Padding is done using the specified fill character (default is a space).\n",
      " |  \n",
      " |  rpartition(self, sep, /)\n",
      " |      Partition the string into three parts using the given separator.\n",
      " |      \n",
      " |      This will search for the separator in the string, starting at the end. If\n",
      " |      the separator is found, returns a 3-tuple containing the part before the\n",
      " |      separator, the separator itself, and the part after it.\n",
      " |      \n",
      " |      If the separator is not found, returns a 3-tuple containing two empty strings\n",
      " |      and the original string.\n",
      " |  \n",
      " |  rsplit(self, /, sep=None, maxsplit=-1)\n",
      " |      Return a list of the substrings in the string, using sep as the separator string.\n",
      " |      \n",
      " |        sep\n",
      " |          The separator used to split the string.\n",
      " |      \n",
      " |          When set to None (the default value), will split on any whitespace\n",
      " |          character (including \\\\n \\\\r \\\\t \\\\f and spaces) and will discard\n",
      " |          empty strings from the result.\n",
      " |        maxsplit\n",
      " |          Maximum number of splits (starting from the left).\n",
      " |          -1 (the default value) means no limit.\n",
      " |      \n",
      " |      Splitting starts at the end of the string and works to the front.\n",
      " |  \n",
      " |  rstrip(self, chars=None, /)\n",
      " |      Return a copy of the string with trailing whitespace removed.\n",
      " |      \n",
      " |      If chars is given and not None, remove characters in chars instead.\n",
      " |  \n",
      " |  split(self, /, sep=None, maxsplit=-1)\n",
      " |      Return a list of the substrings in the string, using sep as the separator string.\n",
      " |      \n",
      " |        sep\n",
      " |          The separator used to split the string.\n",
      " |      \n",
      " |          When set to None (the default value), will split on any whitespace\n",
      " |          character (including \\\\n \\\\r \\\\t \\\\f and spaces) and will discard\n",
      " |          empty strings from the result.\n",
      " |        maxsplit\n",
      " |          Maximum number of splits (starting from the left).\n",
      " |          -1 (the default value) means no limit.\n",
      " |      \n",
      " |      Note, str.split() is mainly useful for data that has been intentionally\n",
      " |      delimited.  With natural text that includes punctuation, consider using\n",
      " |      the regular expression module.\n",
      " |  \n",
      " |  splitlines(self, /, keepends=False)\n",
      " |      Return a list of the lines in the string, breaking at line boundaries.\n",
      " |      \n",
      " |      Line breaks are not included in the resulting list unless keepends is given and\n",
      " |      true.\n",
      " |  \n",
      " |  startswith(...)\n",
      " |      S.startswith(prefix[, start[, end]]) -> bool\n",
      " |      \n",
      " |      Return True if S starts with the specified prefix, False otherwise.\n",
      " |      With optional start, test S beginning at that position.\n",
      " |      With optional end, stop comparing S at that position.\n",
      " |      prefix can also be a tuple of strings to try.\n",
      " |  \n",
      " |  strip(self, chars=None, /)\n",
      " |      Return a copy of the string with leading and trailing whitespace removed.\n",
      " |      \n",
      " |      If chars is given and not None, remove characters in chars instead.\n",
      " |  \n",
      " |  swapcase(self, /)\n",
      " |      Convert uppercase characters to lowercase and lowercase characters to uppercase.\n",
      " |  \n",
      " |  title(self, /)\n",
      " |      Return a version of the string where each word is titlecased.\n",
      " |      \n",
      " |      More specifically, words start with uppercased characters and all remaining\n",
      " |      cased characters have lower case.\n",
      " |  \n",
      " |  translate(self, table, /)\n",
      " |      Replace each character in the string using the given translation table.\n",
      " |      \n",
      " |        table\n",
      " |          Translation table, which must be a mapping of Unicode ordinals to\n",
      " |          Unicode ordinals, strings, or None.\n",
      " |      \n",
      " |      The table must implement lookup/indexing via __getitem__, for instance a\n",
      " |      dictionary or list.  If this operation raises LookupError, the character is\n",
      " |      left untouched.  Characters mapped to None are deleted.\n",
      " |  \n",
      " |  upper(self, /)\n",
      " |      Return a copy of the string converted to uppercase.\n",
      " |  \n",
      " |  zfill(self, width, /)\n",
      " |      Pad a numeric string with zeros on the left, to fill a field of the given width.\n",
      " |      \n",
      " |      The string is never truncated.\n",
      " |  \n",
      " |  ----------------------------------------------------------------------\n",
      " |  Static methods defined here:\n",
      " |  \n",
      " |  __new__(*args, **kwargs) from builtins.type\n",
      " |      Create and return a new object.  See help(type) for accurate signature.\n",
      " |  \n",
      " |  maketrans(...)\n",
      " |      Return a translation table usable for str.translate().\n",
      " |      \n",
      " |      If there is only one argument, it must be a dictionary mapping Unicode\n",
      " |      ordinals (integers) or characters to Unicode ordinals, strings or None.\n",
      " |      Character keys will be then converted to ordinals.\n",
      " |      If there are two arguments, they must be strings of equal length, and\n",
      " |      in the resulting dictionary, each character in x will be mapped to the\n",
      " |      character at the same position in y. If there is a third argument, it\n",
      " |      must be a string, whose characters will be mapped to None in the result.\n",
      "\n"
     ]
    }
   ],
   "source": [
    "help(str)"
   ]
  },
  {
   "cell_type": "markdown",
   "id": "a803f633",
   "metadata": {},
   "source": [
    "## loops"
   ]
  },
  {
   "cell_type": "code",
   "execution_count": null,
   "id": "b98c1df5",
   "metadata": {},
   "outputs": [],
   "source": [
    "# there are two types of loops: \n",
    "#           * while loop\n",
    "#           * for loop\n",
    "\n",
    "\n",
    "## while loop:\n",
    "#         takes a condition and repeats the condititon until it's  false"
   ]
  },
  {
   "cell_type": "markdown",
   "id": "34db7747",
   "metadata": {},
   "source": [
    "## while loop examples"
   ]
  },
  {
   "cell_type": "code",
   "execution_count": 8,
   "id": "dbd330a6",
   "metadata": {},
   "outputs": [
    {
     "name": "stdout",
     "output_type": "stream",
     "text": [
      "1\n",
      "2\n",
      "3\n",
      "4\n",
      "5\n",
      "6\n",
      "7\n",
      "8\n",
      "9\n",
      "10\n"
     ]
    }
   ],
   "source": [
    "# program that prints numbers from 1 - 10\n",
    "num = 1\n",
    "while num <= 10:\n",
    "    print(num)\n",
    "    num = num + 1"
   ]
  },
  {
   "cell_type": "code",
   "execution_count": 4,
   "id": "ff4ca7d3",
   "metadata": {},
   "outputs": [
    {
     "name": "stdout",
     "output_type": "stream",
     "text": [
      "0\n",
      "2\n",
      "4\n",
      "6\n",
      "8\n",
      "10\n"
     ]
    }
   ],
   "source": [
    "for num in range (11):\n",
    "    if num % 2 != 0:\n",
    "        continue\n",
    "    print(num)"
   ]
  },
  {
   "cell_type": "code",
   "execution_count": 36,
   "id": "8b5e2d42",
   "metadata": {},
   "outputs": [
    {
     "name": "stdout",
     "output_type": "stream",
     "text": [
      "enter number: 34\n",
      "enter number: 54\n",
      "enter number: 67\n",
      "enter number: 35\n",
      "enter number: 65\n",
      "enter number: 24\n",
      "enter number: 67\n",
      "346\n"
     ]
    }
   ],
   "source": [
    "# write a program to take 7 numbers and calculate the sum\n",
    "total = 0\n",
    "for i in range(7):\n",
    "    num = int(input('enter number: '))\n",
    "    total += num\n",
    "print(total)"
   ]
  },
  {
   "cell_type": "markdown",
   "id": "2032176f",
   "metadata": {},
   "source": [
    "## classwork"
   ]
  },
  {
   "cell_type": "code",
   "execution_count": 37,
   "id": "cb439a25",
   "metadata": {},
   "outputs": [
    {
     "name": "stdout",
     "output_type": "stream",
     "text": [
      "auhsoj\n"
     ]
    }
   ],
   "source": [
    "# write a program that will take a string and print in reverse\n",
    "text = 'joshua'\n",
    "new_text = text[::-1]\n",
    "print(new_text)\n"
   ]
  },
  {
   "cell_type": "code",
   "execution_count": 18,
   "id": "558fbcf5",
   "metadata": {},
   "outputs": [
    {
     "name": "stdout",
     "output_type": "stream",
     "text": [
      "ruovaf"
     ]
    }
   ],
   "source": [
    "for index in range(-1, -len('favour')-1, -1):\n",
    "    print('favour'[index], end = '')"
   ]
  },
  {
   "cell_type": "markdown",
   "id": "af077847",
   "metadata": {},
   "source": [
    "## string formatting"
   ]
  },
  {
   "cell_type": "code",
   "execution_count": 23,
   "id": "120edc85",
   "metadata": {},
   "outputs": [],
   "source": [
    "# there are three ways to format a string:\n",
    "#(1)   f-string:\n",
    "#             f'mr{name}'\n",
    "#(2)   format method:\n",
    "#             'mr{}'.format(name)\n",
    "#(3)   format operator:\n",
    "#              'mr %s' % name"
   ]
  },
  {
   "cell_type": "markdown",
   "id": "c08f312f",
   "metadata": {},
   "source": [
    "## list"
   ]
  },
  {
   "cell_type": "code",
   "execution_count": null,
   "id": "12bb9bac",
   "metadata": {},
   "outputs": [],
   "source": [
    "# a list is referred to as a sequence of elements/objects\n",
    "# it can be denoted by []\n",
    "# it uses positional index to access their elements\n",
    "#% any datatype can be stored in a list\n",
    "#% when you have a list within a list it is still considered as one object\n",
    "#% a multi-dimensional index is when you have multiple index\n",
    "#% list also support slicing\n",
    "#% a list is mutable: you can change the value of a list    % concatenation and repetition do not modify an object"
   ]
  },
  {
   "cell_type": "code",
   "execution_count": 1,
   "id": "5721d71e",
   "metadata": {},
   "outputs": [
    {
     "name": "stdout",
     "output_type": "stream",
     "text": [
      "1\n"
     ]
    }
   ],
   "source": [
    "a_list = [1, 2, 'a', 'b', [12.6, 'string']]\n",
    "print(a_list[0])"
   ]
  },
  {
   "cell_type": "code",
   "execution_count": 2,
   "id": "9f92f767",
   "metadata": {},
   "outputs": [
    {
     "name": "stdout",
     "output_type": "stream",
     "text": [
      "2\n"
     ]
    }
   ],
   "source": [
    "print(a_list[1])"
   ]
  },
  {
   "cell_type": "code",
   "execution_count": 3,
   "id": "d854bd26",
   "metadata": {},
   "outputs": [
    {
     "name": "stdout",
     "output_type": "stream",
     "text": [
      "a\n"
     ]
    }
   ],
   "source": [
    "print(a_list[2])"
   ]
  },
  {
   "cell_type": "code",
   "execution_count": 4,
   "id": "da78bde1",
   "metadata": {},
   "outputs": [
    {
     "name": "stdout",
     "output_type": "stream",
     "text": [
      "12.6\n"
     ]
    }
   ],
   "source": [
    "print(a_list[4][0])"
   ]
  },
  {
   "cell_type": "code",
   "execution_count": 5,
   "id": "bada1f76",
   "metadata": {},
   "outputs": [
    {
     "name": "stdout",
     "output_type": "stream",
     "text": [
      "['a', 'b']\n"
     ]
    }
   ],
   "source": [
    "print(a_list[2:4])"
   ]
  },
  {
   "cell_type": "code",
   "execution_count": 11,
   "id": "db826f45",
   "metadata": {},
   "outputs": [
    {
     "name": "stdout",
     "output_type": "stream",
     "text": [
      "3\n"
     ]
    }
   ],
   "source": [
    "a_list[2] = 3\n",
    "print(a_list[2])"
   ]
  },
  {
   "cell_type": "code",
   "execution_count": 12,
   "id": "b72d60ed",
   "metadata": {},
   "outputs": [
    {
     "name": "stdout",
     "output_type": "stream",
     "text": [
      "['a', 'b', 'c', 'd']\n"
     ]
    }
   ],
   "source": [
    "a_list[ :4] = ['a', 'b', 'c', 'd']\n",
    "print(a_list[ :4])"
   ]
  },
  {
   "cell_type": "code",
   "execution_count": 14,
   "id": "b586b77c",
   "metadata": {},
   "outputs": [
    {
     "name": "stdout",
     "output_type": "stream",
     "text": [
      "['a', 'b', 'c', 'd', [12.6, 'string']]\n"
     ]
    }
   ],
   "source": [
    "print(a_list)"
   ]
  },
  {
   "cell_type": "code",
   "execution_count": 15,
   "id": "1d19dcd0",
   "metadata": {},
   "outputs": [
    {
     "name": "stdout",
     "output_type": "stream",
     "text": [
      "[10, 20, 30, 30, 40, 50]\n"
     ]
    }
   ],
   "source": [
    "list1 = [10, 20, 30]\n",
    "list2 = [30, 40, 50]\n",
    "print(list1 + list2)"
   ]
  },
  {
   "cell_type": "code",
   "execution_count": 17,
   "id": "5018034a",
   "metadata": {},
   "outputs": [
    {
     "name": "stdout",
     "output_type": "stream",
     "text": [
      "[20, 40]\n"
     ]
    }
   ],
   "source": [
    "print(list1[1:2] + list2[1:2])"
   ]
  },
  {
   "cell_type": "code",
   "execution_count": 19,
   "id": "da79cc2c",
   "metadata": {},
   "outputs": [
    {
     "name": "stdout",
     "output_type": "stream",
     "text": [
      "[10, 20, 30, 10, 20, 30, 10, 20, 30, 10, 20, 30]\n"
     ]
    }
   ],
   "source": [
    "print(list1 * 4)"
   ]
  },
  {
   "cell_type": "markdown",
   "id": "691996c1",
   "metadata": {},
   "source": [
    "## list methods"
   ]
  },
  {
   "cell_type": "code",
   "execution_count": null,
   "id": "fd16f5fa",
   "metadata": {},
   "outputs": [],
   "source": [
    "# ADD: \n",
    "#    append: allows you to add a single object\n",
    "#    extend: takes a list of elements\n",
    "#    insert: whatever position you want it to be\n",
    "# REMOVE:\n",
    "#    pop: position\n",
    "#    remove: element\n",
    "#    del operator/keyword: object"
   ]
  },
  {
   "cell_type": "code",
   "execution_count": 20,
   "id": "449d4f10",
   "metadata": {},
   "outputs": [
    {
     "name": "stdout",
     "output_type": "stream",
     "text": [
      "['oboma', 'enoch', 'ib', 'tekena']\n"
     ]
    }
   ],
   "source": [
    "# append\n",
    "mylist = ['oboma', 'enoch', 'ib']\n",
    "mylist.append('tekena')\n",
    "print(mylist)"
   ]
  },
  {
   "cell_type": "code",
   "execution_count": 23,
   "id": "a14e725a",
   "metadata": {},
   "outputs": [
    {
     "name": "stdout",
     "output_type": "stream",
     "text": [
      "['chinonso', 'elvis', 'martins']\n"
     ]
    }
   ],
   "source": [
    "# extend\n",
    "mylist2 = ['chinonso']\n",
    "mylist2.extend(['elvis', 'martins'])\n",
    "print(mylist2)"
   ]
  },
  {
   "cell_type": "code",
   "execution_count": 41,
   "id": "54276d6d",
   "metadata": {},
   "outputs": [
    {
     "name": "stdout",
     "output_type": "stream",
     "text": [
      "['oboma', 'enoch', 'ib', ['tekena']]\n"
     ]
    }
   ],
   "source": [
    "# append\n",
    "mylist = ['oboma', 'enoch', 'ib']\n",
    "mylist.append(['tekena'])\n",
    "print(mylist)"
   ]
  },
  {
   "cell_type": "code",
   "execution_count": 37,
   "id": "a577001d",
   "metadata": {},
   "outputs": [
    {
     "name": "stdout",
     "output_type": "stream",
     "text": [
      "['oboma', 'enoch', 'ib', ['elisha', 'tekena']]\n"
     ]
    }
   ],
   "source": [
    "#insert\n",
    "mylist[3].insert(0,'elisha')\n",
    "print(mylist)"
   ]
  },
  {
   "cell_type": "code",
   "execution_count": 39,
   "id": "14800b69",
   "metadata": {},
   "outputs": [
    {
     "name": "stdout",
     "output_type": "stream",
     "text": [
      "['oboma', ['elisha', 'tekena']]\n"
     ]
    }
   ],
   "source": [
    "# pop\n",
    "popped_name = mylist.pop(1)\n",
    "print(mylist)"
   ]
  },
  {
   "cell_type": "code",
   "execution_count": 42,
   "id": "6fe11e21",
   "metadata": {},
   "outputs": [
    {
     "name": "stdout",
     "output_type": "stream",
     "text": [
      "['oboma', 'enoch', ['tekena']]\n"
     ]
    }
   ],
   "source": [
    "mylist.remove('ib')\n",
    "print(mylist)"
   ]
  },
  {
   "cell_type": "code",
   "execution_count": 45,
   "id": "94262f5d",
   "metadata": {},
   "outputs": [
    {
     "name": "stdout",
     "output_type": "stream",
     "text": [
      "['enoch', ['tekena']]\n"
     ]
    }
   ],
   "source": [
    "del mylist[0]\n",
    "print(mylist)"
   ]
  },
  {
   "cell_type": "code",
   "execution_count": 2,
   "id": "d9e99e09",
   "metadata": {},
   "outputs": [
    {
     "name": "stdout",
     "output_type": "stream",
     "text": [
      "['red', 'black', 'pink', 'blue', 'purple', 'aquamarine']\n",
      "guess the color: aquamarine\n",
      "incorrect.\n",
      " try again!\n",
      "guess the color: purple\n",
      "incorrect.\n",
      " try again!\n",
      "guess the color: red\n",
      "incorrect.\n",
      " try again!\n",
      "guess the color: black\n",
      "correct.\n",
      " you win!\n"
     ]
    }
   ],
   "source": [
    "import random\n",
    "colors = ['red', 'black','pink', 'blue', 'purple', 'aquamarine']\n",
    "print(colors)\n",
    "\n",
    "random_choice = random.choice(colors)\n",
    "for i in range(5):\n",
    "    user_choice = input('guess the color: ')\n",
    "    \n",
    "    if user_choice == random_choice:\n",
    "        print('correct.\\n you win!')\n",
    "        break\n",
    "    print('incorrect.\\n try again!')\n",
    "else:\n",
    "    print('you are out of tries')"
   ]
  },
  {
   "cell_type": "markdown",
   "id": "cd8b33ce",
   "metadata": {},
   "source": [
    "## Aliasing"
   ]
  },
  {
   "cell_type": "code",
   "execution_count": 4,
   "id": "d18348c3",
   "metadata": {},
   "outputs": [
    {
     "name": "stdout",
     "output_type": "stream",
     "text": [
      "True\n"
     ]
    }
   ],
   "source": [
    "name1 ='uche'\n",
    "name2 ='uche'\n",
    "print(name1 is name2)"
   ]
  },
  {
   "cell_type": "code",
   "execution_count": 5,
   "id": "9301ffa3",
   "metadata": {},
   "outputs": [
    {
     "data": {
      "text/plain": [
       "True"
      ]
     },
     "execution_count": 5,
     "metadata": {},
     "output_type": "execute_result"
    }
   ],
   "source": [
    "name1 == name2"
   ]
  },
  {
   "cell_type": "code",
   "execution_count": 6,
   "id": "43efb49b",
   "metadata": {},
   "outputs": [
    {
     "data": {
      "text/plain": [
       "True"
      ]
     },
     "execution_count": 6,
     "metadata": {},
     "output_type": "execute_result"
    }
   ],
   "source": [
    "list1 = [1, 2, 3]\n",
    "list2 = [1, 2, 3]\n",
    "list1 == list2"
   ]
  },
  {
   "cell_type": "code",
   "execution_count": 7,
   "id": "d45909da",
   "metadata": {},
   "outputs": [
    {
     "data": {
      "text/plain": [
       "False"
      ]
     },
     "execution_count": 7,
     "metadata": {},
     "output_type": "execute_result"
    }
   ],
   "source": [
    "list1 is list2"
   ]
  },
  {
   "cell_type": "code",
   "execution_count": 9,
   "id": "dd469e6c",
   "metadata": {},
   "outputs": [
    {
     "name": "stdout",
     "output_type": "stream",
     "text": [
      "[1, 2, 3, 4]\n"
     ]
    }
   ],
   "source": [
    "list2 = list1\n",
    "list1.append(4)\n",
    "print(list2)"
   ]
  },
  {
   "cell_type": "markdown",
   "id": "6f21c623",
   "metadata": {},
   "source": [
    "## TUPLES"
   ]
  },
  {
   "cell_type": "code",
   "execution_count": null,
   "id": "0462c321",
   "metadata": {},
   "outputs": [],
   "source": [
    "# it is a sequence of elements\n",
    "# denoted by ()\n",
    "# it is immutable(unchangeable) \n",
    "# if you want to create a tuple with a single element you have to add a comma(,)\n",
    "\n",
    "# methods:\n",
    "#        index: to return the index \n",
    "#        count: to return the number of an element"
   ]
  },
  {
   "cell_type": "markdown",
   "id": "64842346",
   "metadata": {},
   "source": [
    "## Dictionary"
   ]
  },
  {
   "cell_type": "code",
   "execution_count": null,
   "id": "c3b2d2ef",
   "metadata": {},
   "outputs": [],
   "source": [
    "# it is a sequence of paired values\n",
    "# denoted by {}\n",
    "# dictionary elements are stored with a {key:value}\n",
    "# dictionary keys can be any datatype as long as it is immutable while the values can be any datatype\n",
    "# dictionaries a re indexed by their keys\n",
    "# you can assign a value to a key that is not in a dictionary but you cannot access a non-existing key\n",
    "# the operator only checks for the keys not for values but if you want to get the values you either use the list dictionary\n",
    "# method: \n",
    "#       dict.get(key,def)\n",
    "#           .keys()\n",
    "#           .values()\n",
    "#           .items()                            help(dict)\n",
    "#           .update({})                                    \n",
    "#           .pop()                               \n",
    "#           .popitem()                                "
   ]
  },
  {
   "cell_type": "code",
   "execution_count": 15,
   "id": "527ac920",
   "metadata": {},
   "outputs": [
    {
     "name": "stdout",
     "output_type": "stream",
     "text": [
      "uche\n"
     ]
    }
   ],
   "source": [
    "# example\n",
    "user = {'name':'uche',\"age\":12}\n",
    "print(user['name'])"
   ]
  },
  {
   "cell_type": "code",
   "execution_count": 16,
   "id": "f6c0c6de",
   "metadata": {},
   "outputs": [
    {
     "data": {
      "text/plain": [
       "12"
      ]
     },
     "execution_count": 16,
     "metadata": {},
     "output_type": "execute_result"
    }
   ],
   "source": [
    "user['age']"
   ]
  },
  {
   "cell_type": "code",
   "execution_count": 17,
   "id": "903e6c70",
   "metadata": {},
   "outputs": [],
   "source": [
    "user['month'] = 'november'"
   ]
  },
  {
   "cell_type": "code",
   "execution_count": 18,
   "id": "4f454e95",
   "metadata": {},
   "outputs": [
    {
     "name": "stdout",
     "output_type": "stream",
     "text": [
      "{'name': 'uche', 'age': 12, 'month': 'november'}\n"
     ]
    }
   ],
   "source": [
    "print(user)"
   ]
  },
  {
   "cell_type": "markdown",
   "id": "a5450f55",
   "metadata": {},
   "source": [
    "## set"
   ]
  },
  {
   "cell_type": "code",
   "execution_count": null,
   "id": "460a9c52",
   "metadata": {},
   "outputs": [],
   "source": [
    "# it is a sequence of unique eelements\n",
    "# denoted by{}/set()\n",
    "# cannot be indexed\n",
    "# sets only stores unique values. you cannot have duplicate values in a set\n",
    "# sets only store immutable values"
   ]
  },
  {
   "cell_type": "code",
   "execution_count": 24,
   "id": "29c22da5",
   "metadata": {},
   "outputs": [
    {
     "name": "stdout",
     "output_type": "stream",
     "text": [
      "enter name: phayvour\n",
      "enter score1: 34\n",
      "enter score2: 76\n",
      "enter score3: 98\n",
      "enter name: fhayvour\n",
      "enter score1: 34\n",
      "enter score2: 65\n",
      "enter score3: 87\n",
      "enter name: favour\n",
      "enter score1: 90\n",
      "enter score2: 98\n",
      "enter score3: 97\n",
      "{'phayvour': ['34', '76', '98'], 'fhayvour': ['34', '65', '87'], 'favour': ['90', '98', '97']}\n"
     ]
    }
   ],
   "source": [
    "# exercise\n",
    "# write a program to store students name and scores in three subjects in a dictionary and display the highest scoring \n",
    "# student for each subject\n",
    "\n",
    "students = {}\n",
    "for i in range(3):\n",
    "    name = input('enter name: ')\n",
    "    score = []\n",
    "    for j in range(3):\n",
    "        score.append(input(f'enter score{j+1}: '))\n",
    "    students[name] = score\n",
    "print(students)\n",
    "        \n",
    "    "
   ]
  },
  {
   "cell_type": "markdown",
   "id": "ec09ee87",
   "metadata": {},
   "source": [
    "## working with files"
   ]
  },
  {
   "cell_type": "code",
   "execution_count": null,
   "id": "294073f1",
   "metadata": {},
   "outputs": [],
   "source": [
    "# data persistence: the ability to store data long term. if data needs to be stored it should either be stored in a file\n",
    "# or database.\n",
    "# operations that can be performed in a file:\n",
    "#                                 -create\n",
    "#                                 -write\n",
    "#                                 -read\n",
    "#                                 -append\n",
    "\n",
    "# when a file needs to be created two things are needed:\n",
    "#           -file path/file name/extension\n",
    "#           -mode/operation\n",
    "\n",
    "# how do you create a file in python:\n",
    "#  python has a built in function called -- open(): which is used to create a connection between a file and the program\n",
    "# open(file name,mode,encoding)\n",
    "# the open function returns in a file handle\n",
    "# to use the file handle you have to store it in a variable\n",
    " \n",
    "# modes:\n",
    "#     -write  -read   -append\n",
    "\n",
    "# types of files:\n",
    "# text: \n",
    "#      this files are raw files. -csv and txt files are examples\n",
    "# binary:\n",
    "#      if you want to open a file in binary always add a b    \n",
    "#                                                    -wb  -rb\n",
    "# there are two ways to read a file:\n",
    "# you either use the read mode or the for loop\n"
   ]
  },
  {
   "cell_type": "code",
   "execution_count": 25,
   "id": "06077bc1",
   "metadata": {},
   "outputs": [
    {
     "name": "stdout",
     "output_type": "stream",
     "text": [
      "<_io.TextIOWrapper name='login_infos.txt' mode='w' encoding='cp1252'>\n"
     ]
    }
   ],
   "source": [
    "file = open('login_infos.txt','w')\n",
    "print(file)"
   ]
  },
  {
   "cell_type": "code",
   "execution_count": 27,
   "id": "d2543595",
   "metadata": {},
   "outputs": [
    {
     "data": {
      "text/plain": [
       "15"
      ]
     },
     "execution_count": 27,
     "metadata": {},
     "output_type": "execute_result"
    }
   ],
   "source": [
    "file.write('my python file\\n')"
   ]
  },
  {
   "cell_type": "code",
   "execution_count": 28,
   "id": "31808f0f",
   "metadata": {},
   "outputs": [
    {
     "data": {
      "text/plain": [
       "21"
      ]
     },
     "execution_count": 28,
     "metadata": {},
     "output_type": "execute_result"
    }
   ],
   "source": [
    "file.write('not your python file\\n')"
   ]
  },
  {
   "cell_type": "code",
   "execution_count": 36,
   "id": "d30ca12d",
   "metadata": {},
   "outputs": [],
   "source": [
    "file = open('login_infos.txt','a')\n",
    "file.write('my python file\\n')\n",
    "file.write('not your python file\\n')\n",
    "file.close()"
   ]
  },
  {
   "cell_type": "code",
   "execution_count": 35,
   "id": "5c7169f2",
   "metadata": {},
   "outputs": [],
   "source": [
    "file = open('login_infos.txt','w')\n",
    "file.write('hello!, hi there\\n')\n",
    "file.write('you yes you\\n')\n",
    "file.write('am talking to you\\n')\n",
    "file.write('anyways bye')\n",
    "file.close()"
   ]
  },
  {
   "cell_type": "code",
   "execution_count": 39,
   "id": "56785ffa",
   "metadata": {},
   "outputs": [
    {
     "name": "stdout",
     "output_type": "stream",
     "text": [
      "<_io.TextIOWrapper name='login_infos.txt' mode='r' encoding='cp1252'>\n",
      "<_io.TextIOWrapper name='login_infos.txt' mode='r' encoding='cp1252'>\n",
      "<_io.TextIOWrapper name='login_infos.txt' mode='r' encoding='cp1252'>\n",
      "<_io.TextIOWrapper name='login_infos.txt' mode='r' encoding='cp1252'>\n",
      "<_io.TextIOWrapper name='login_infos.txt' mode='r' encoding='cp1252'>\n"
     ]
    }
   ],
   "source": [
    "file = open('login_infos.txt','r')\n",
    "for line in file:\n",
    "    print(file)"
   ]
  },
  {
   "cell_type": "code",
   "execution_count": 40,
   "id": "a4ea66cd",
   "metadata": {},
   "outputs": [
    {
     "name": "stdout",
     "output_type": "stream",
     "text": [
      "hello!, hi there\n",
      "you yes you\n",
      "am talking to you\n",
      "anyways byemy python file\n",
      "not your python file\n",
      "\n"
     ]
    }
   ],
   "source": [
    "file = open('login_infos.txt','r')\n",
    "content = file.read()\n",
    "print(content)\n",
    "file.close()"
   ]
  },
  {
   "cell_type": "markdown",
   "id": "cdcf2187",
   "metadata": {},
   "source": [
    "## exceptions"
   ]
  },
  {
   "cell_type": "code",
   "execution_count": null,
   "id": "00ed1b1b",
   "metadata": {},
   "outputs": [],
   "source": [
    "# try...except:\n",
    "#             used when a program needs to run without it crashing and encountering an error"
   ]
  },
  {
   "cell_type": "code",
   "execution_count": 43,
   "id": "d7eeffb5",
   "metadata": {},
   "outputs": [
    {
     "name": "stdout",
     "output_type": "stream",
     "text": [
      "favour\n"
     ]
    }
   ],
   "source": [
    "print(name)"
   ]
  },
  {
   "cell_type": "code",
   "execution_count": 48,
   "id": "24bb325a",
   "metadata": {},
   "outputs": [
    {
     "name": "stdout",
     "output_type": "stream",
     "text": [
      "no variable name\n"
     ]
    }
   ],
   "source": [
    "try:\n",
    "    print(name100)\n",
    "except NameError:\n",
    "    print('no variable name')"
   ]
  },
  {
   "cell_type": "code",
   "execution_count": 49,
   "id": "63555ee4",
   "metadata": {},
   "outputs": [
    {
     "ename": "ZeroDivisionError",
     "evalue": "division by zero",
     "output_type": "error",
     "traceback": [
      "\u001b[1;31m---------------------------------------------------------------------------\u001b[0m",
      "\u001b[1;31mZeroDivisionError\u001b[0m                         Traceback (most recent call last)",
      "Cell \u001b[1;32mIn[49], line 1\u001b[0m\n\u001b[1;32m----> 1\u001b[0m \u001b[38;5;28mprint\u001b[39m(\u001b[38;5;241m1\u001b[39m\u001b[38;5;241m/\u001b[39m\u001b[38;5;241m0\u001b[39m)\n",
      "\u001b[1;31mZeroDivisionError\u001b[0m: division by zero"
     ]
    }
   ],
   "source": [
    "print(1/0)"
   ]
  },
  {
   "cell_type": "code",
   "execution_count": 51,
   "id": "d9528d99",
   "metadata": {},
   "outputs": [
    {
     "name": "stdout",
     "output_type": "stream",
     "text": [
      "cant divide by zero\n"
     ]
    }
   ],
   "source": [
    "try:\n",
    "    print(1/0)\n",
    "except :\n",
    "    ZeroDivisionError    \n",
    "    print('cant divide by zero')"
   ]
  },
  {
   "cell_type": "code",
   "execution_count": 52,
   "id": "be00c373",
   "metadata": {},
   "outputs": [
    {
     "name": "stdout",
     "output_type": "stream",
     "text": [
      "cant divide by zero\n"
     ]
    }
   ],
   "source": [
    "try:\n",
    "    print(1/0)\n",
    "except NameError:                  \n",
    "    print('no variable name')       \n",
    "except:\n",
    "    ZeroDivisionError    \n",
    "    print('cant divide by zero')"
   ]
  },
  {
   "cell_type": "code",
   "execution_count": 55,
   "id": "6149db55",
   "metadata": {},
   "outputs": [
    {
     "name": "stdout",
     "output_type": "stream",
     "text": [
      "cant divide by zero\n"
     ]
    }
   ],
   "source": [
    "try:\n",
    "    print(1/0)\n",
    "except: (NameError, ZeroDivisionError)\n",
    "print('cant divide by zero')        # when you have multiple errors that needs to be answered in the same except block\n",
    "                                    # list them in a tuple()\n",
    "            "
   ]
  },
  {
   "cell_type": "markdown",
   "id": "c9e3e101",
   "metadata": {},
   "source": [
    "## Object Oriented Programming"
   ]
  },
  {
   "cell_type": "raw",
   "id": "a2f0297c",
   "metadata": {},
   "source": [
    "functions:\n",
    "    a function is a group of statements used to perform a specific task in a program.\n",
    "program:\n",
    "    statement used to make something happen.\n",
    "         USES of FUNCTIONS\n",
    " .it provides readability\n",
    "         TYPES of FUNCTIONS\n",
    " .built-in functions:\n",
    "         functions that have been pre-compiled(already exist in python software).eg: input(), print(), min(), max(), reversed()\n",
    "                                                                               sorted(), zip(), and several others\n",
    " .userdefined functions:\n",
    "         functions that are created by a programmer.\n",
    "        HOW TO CREATE A FUNCTION\n",
    " .using the def, function name and parameteres(optional)\n",
    " def add(num1,num2)- this is called function declaration\n",
    "     result = num1 + num2 - this is function definition\n",
    "     return result - provides the output\n",
    "        !NEVER USE A FUNCTION WITHOUT PARAMETERS!\n",
    "print does not return it only displays\n",
    "         HOW TO CALL A FUNCTION\n",
    "  .with function name and the values of the parameters\n",
    "  total = add(63,95) - function cell\n",
    "  print(total)\n",
    "  !WHEN SETTING A DEFAULT PARAMETER IT HAS TO BE AT THE LAST!"
   ]
  },
  {
   "cell_type": "code",
   "execution_count": 16,
   "id": "67720f56",
   "metadata": {},
   "outputs": [
    {
     "name": "stdout",
     "output_type": "stream",
     "text": [
      "2.6999999999999997\n"
     ]
    }
   ],
   "source": [
    "def pay(sales, comm = 0.15):\n",
    "    result = sales*comm\n",
    "    return result\n",
    "uche_pay = pay(18)\n",
    "print(uche_pay)"
   ]
  },
  {
   "cell_type": "raw",
   "id": "3bd82a8c",
   "metadata": {},
   "source": [
    "write a program that takes two numbers and subtracts the smaller from the larger using a function"
   ]
  },
  {
   "cell_type": "code",
   "execution_count": 33,
   "id": "47eccfc9",
   "metadata": {},
   "outputs": [
    {
     "name": "stdout",
     "output_type": "stream",
     "text": [
      "78\n"
     ]
    }
   ],
   "source": [
    "def subtract(num1,num2):\n",
    "    if num1 >= num2:\n",
    "        return num1 - num2\n",
    "    else:\n",
    "        return num2 - num1\n",
    "diff = subtract(16,94)\n",
    "print(diff)\n"
   ]
  },
  {
   "cell_type": "code",
   "execution_count": null,
   "id": "44a925b4",
   "metadata": {},
   "outputs": [],
   "source": []
  }
 ],
 "metadata": {
  "kernelspec": {
   "display_name": "Python 3 (ipykernel)",
   "language": "python",
   "name": "python3"
  },
  "language_info": {
   "codemirror_mode": {
    "name": "ipython",
    "version": 3
   },
   "file_extension": ".py",
   "mimetype": "text/x-python",
   "name": "python",
   "nbconvert_exporter": "python",
   "pygments_lexer": "ipython3",
   "version": "3.11.4"
  }
 },
 "nbformat": 4,
 "nbformat_minor": 5
}
